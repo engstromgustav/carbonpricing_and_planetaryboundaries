{
 "cells": [
  {
   "cell_type": "markdown",
   "metadata": {},
   "source": [
    "# Effect of a carbon tax for planetery boundaries"
   ]
  },
  {
   "cell_type": "markdown",
   "metadata": {},
   "source": [
    "## Model"
   ]
  },
  {
   "cell_type": "markdown",
   "metadata": {},
   "source": [
    "This notebook provides a numerical simulation of the effect of a potential carbon tax on variables which have been identified as \n",
    "key drivers of the processes underlying the planetary boundaries (PB) framework. The model, upon which we base our analysis, is set up along the lines of a standard economic textbook model of decentralized competitive economy where firms and consumers have preferences over outcomes and each solve maximization problems by engaging in trade with each other. The sectors (or economic actors) we have included are those that we have identified as being central drivers of the processes underlying the PB's these include e.g. the production of fossil fuel, fertilizer, agriculture, timber, water and fisheries.  To study the implications of a carbon tax within this setting we have proceeded along the following lines:\n",
    "1. Characterize the problem each economic actor is trying to solve given their preferences, technology and constraints.\n",
    "2. Derive the corresponding first order conditions for each actor.\n",
    "3. From the first order conditions characterize the equilibrium allocation only in terms of the model variables (i.e. eliminate prices) \n",
    "4. Derive the comparitive statics of the effect of a carbon tax i.e. differentiate the equilibrium allocation fully with respect to the carbon tax.\n",
    "\n",
    "The resulting equilibrium outcome thus indirectly reveals how each variable in the model responds to a carbon tax."
   ]
  },
  {
   "cell_type": "markdown",
   "metadata": {},
   "source": [
    "## Numerical solution method"
   ]
  },
  {
   "cell_type": "markdown",
   "metadata": {},
   "source": [
    "The numerical solution is found as the solution to a system of 19 equations in 19 unknowns. This details of this equation system and how it was derived is found in the document referenced above (see equations 72-90). The solution method adopted below proceeds as follows:\n",
    "1. From the equation system (72-90) all terms containing the carbon tax $\\tau_E$ are moved to the left and all other terms to the right.\n",
    "2. We then proceeded by rewriting the system in matrix/vector form where the rows correspond to the equations and columns are variables (e.g. the first row in the matrix holds the parameters of equation (72), the second row equation (73), etc.). The system can thus be written as $\\mathbf{\\tau} = \\mathbf{A y}$ were $\\mathbf{\\tau}$ is a vector of containing the terms with the carbon tax, $\\mathbf{y}$ are 19x1 vectors of outcome variables and $\\mathbf{A}$ is a 19x19 matrix of parameters.\n",
    "3. The solution to the system is thus found by inverting the matrix $\\mathbf{A}$ and multiplying each side by this inverse i.e. $\\mathbf{y} = \\mathbf{A^{-1} \\tau}$"
   ]
  },
  {
   "cell_type": "markdown",
   "metadata": {},
   "source": [
    "## Code"
   ]
  },
  {
   "cell_type": "markdown",
   "metadata": {},
   "source": [
    "The model can be simulated by highlighting each code cell below and clicking the \"run button\" above for each cell  \n",
    "in consecutive order."
   ]
  },
  {
   "cell_type": "markdown",
   "metadata": {},
   "source": [
    "### Import the necessary computational modules"
   ]
  },
  {
   "cell_type": "code",
   "execution_count": null,
   "metadata": {
    "collapsed": false
   },
   "outputs": [],
   "source": [
    "import numpy as np\n",
    "import pandas as pd\n",
    "print(pd.__version__)\n",
    "import os, sys\n",
    "from itertools import product\n",
    "import re\n"
   ]
  },
  {
   "cell_type": "markdown",
   "metadata": {},
   "source": [
    "### Construct coefficient matrix"
   ]
  },
  {
   "cell_type": "code",
   "execution_count": null,
   "metadata": {},
   "outputs": [],
   "source": [
    "def gen_coef_matrix(var_dict, biofuel_tax = 0, land_policy = False):\n",
    "\n",
    "    v = var_dict\n",
    "    vci = v['vci']\n",
    "    pci = v['pci']\n",
    "    #locals().update(var_dict)# Coefficient  Matrix (rows: equations, columns: variables)\n",
    "    # note: python vectors starts with index zero\n",
    "    coef_matrix = np.zeros((41, 41))\n",
    "    #print(locals())\n",
    "    # Policy variable vector (carbon tax)\n",
    "    policy_vector = np.zeros((41, 1))\n",
    "\n",
    "    ## Populate coefficient matrix and policy vector (note: document equation numbers specified in brackets)\n",
    "\n",
    "    # Market clearing Fixed totat land: eq. [72]\n",
    "    coef_matrix[0, vci['L_A']] = v['Q_LA']\n",
    "    coef_matrix[0, vci['L_T']] = v['Q_LT']\n",
    "    coef_matrix[0, vci['L_U']] = v['Q_LU']\n",
    "\n",
    "    # Market clearing constraint fossil fuel: eq. [73]\n",
    "    coef_matrix[1, vci['E']] = -1\n",
    "    coef_matrix[1, vci['E_Eps']] = v['Q_EEps']\n",
    "    coef_matrix[1, vci['E_P']] = v['Q_EP']\n",
    "    coef_matrix[1, vci['E_Fi']] = v['Q_EFi']\n",
    "\n",
    "    # Market clearing agric. output: eq. [74]\n",
    "    coef_matrix[2, vci['A']] = -1\n",
    "    coef_matrix[2, vci['A_B']] = v['Q_AB']\n",
    "    coef_matrix[2, vci['A_F']] = v['Q_AF']\n",
    "\n",
    "    # Market clearing energy. services: eq. [75]\n",
    "    coef_matrix[3, vci['Eps']] = -1\n",
    "    coef_matrix[3, vci['Eps_A']] = v['Q_EpsA']\n",
    "    coef_matrix[3, vci['Eps_Y']] = v['Q_EpsY']\n",
    "\n",
    "    # Agricultural prod. : eq. [76]\n",
    "    coef_matrix[4, vci['L_A']] = v['GammaA_LA']\n",
    "    coef_matrix[4, vci['A']] = -1.0\n",
    "    coef_matrix[4, vci['Eps_A']] = v['GammaA_EpsA']\n",
    "    coef_matrix[4, vci['P']] = v['GammaA_P']\n",
    "    coef_matrix[4, vci['W']] = v['GammaA_W']\n",
    "    coef_matrix[4, vci['MA']] = v['GammaA_MA']\n",
    "\n",
    "    # Timber prod. : eq. [77]\n",
    "    coef_matrix[5, vci['L_T']] = v['GammaT_LT']\n",
    "    coef_matrix[5, vci['T']] = -1.0\n",
    "    coef_matrix[5, vci['MT']] = v['GammaT_MT']\n",
    "\n",
    "    # Fertilizer prod. : eq. [78]\n",
    "    coef_matrix[6, vci['P']] = -1\n",
    "    coef_matrix[6, vci['E_P']] = v['GammaP_EP']\n",
    "    coef_matrix[6, vci['Pho']] = v['GammaP_Pho']\n",
    "    coef_matrix[6, vci['MP']] = v['GammaP_MP']\n",
    "\n",
    "    # Energy prod. : eq. [79]\n",
    "    coef_matrix[7, vci['Eps']] = -1.0\n",
    "    coef_matrix[7, vci['A_B']] = v['GammaEps_AB']\n",
    "    coef_matrix[7, vci['E_Eps']] = v['GammaEps_EEps']\n",
    "    coef_matrix[7, vci['R']] = v['GammaEps_R']\n",
    "\n",
    "    # Final good prod. : eq. [80]\n",
    "    coef_matrix[8, vci['Y']] = -1.0\n",
    "    coef_matrix[8, vci['Eps_Y']] = v['GammaY_EpsY']\n",
    "    coef_matrix[8, vci['MY']] = v['GammaY_MY']\n",
    "\n",
    "    # Fisheries prod.\n",
    "    coef_matrix[9, vci['Fi']] = -1.0\n",
    "    coef_matrix[9, vci['E_Fi']] = v['GammaFi_EFi']\n",
    "    coef_matrix[9, vci['MFi']] = v['GammaFi_MFi']\n",
    "\n",
    "    # foc: agric. wrt land use\n",
    "    coef_matrix[10, pci['p_A']] = 1\n",
    "    coef_matrix[10, pci['p_L']] = -1\n",
    "    coef_matrix[10, vci['L_A']] = -v['V_A'] - 1/v['sigma_A']\n",
    "    coef_matrix[10, vci['A']] = 1/v['sigma_A']\n",
    "\n",
    "    # foc: agric. wrt P (fertiliz)\n",
    "    coef_matrix[11, pci['p_A']] = 1\n",
    "    coef_matrix[11, pci['p_P']] = -1\n",
    "    coef_matrix[11, vci['A']] = 1/v['sigma_A']\n",
    "    coef_matrix[11, vci['P']] = -(1/v['sigma_A'] - 1/v['sigma_nLA'])*v['GammanLA_P'] - 1/v['sigma_nLA']\n",
    "    coef_matrix[11, vci['MA']] = -(1/v['sigma_A'] - 1/v['sigma_nLA'])*v['GammanLA_MA'] \n",
    "    coef_matrix[11, vci['W']] = -(1/v['sigma_A'] - 1/v['sigma_nLA'])*v['GammanLA_W'] \n",
    "    coef_matrix[11, vci['Eps_A']] = -(1/v['sigma_A'] - 1/v['sigma_nLA'])*v['GammanLA_EpsA']\n",
    "\n",
    "    # foc: agric. wrt P and MA\n",
    "    coef_matrix[12, pci['p_P']] = 1\n",
    "    coef_matrix[12, pci['p_MA']] = -1\n",
    "    coef_matrix[12, vci['MA']] = -1/v['sigma_nLA']\n",
    "    coef_matrix[12, vci['P']] = 1/v['sigma_nLA']\n",
    "\n",
    "    # foc: agric. wrt P and W\n",
    "    coef_matrix[13, pci['p_P']] = 1\n",
    "    coef_matrix[13, pci['p_W']] = -1\n",
    "    coef_matrix[13, vci['W']] = -1/v['sigma_nLA']\n",
    "    coef_matrix[13, vci['P']] = 1/v['sigma_nLA']\n",
    "\n",
    "    # foc: agric. wrt P and Eps_A\n",
    "    coef_matrix[14, pci['p_P']] = 1\n",
    "    coef_matrix[14, pci['p_Eps']] = -1\n",
    "    coef_matrix[14, vci['Eps_A']] = -1/v['sigma_nLA']\n",
    "    coef_matrix[14, vci['P']] = 1/v['sigma_nLA']\n",
    "\n",
    "    # foc: Eps. wrt E_Eps\n",
    "    coef_matrix[15, pci['p_Eps']] = 1\n",
    "    coef_matrix[15, pci['p_E']] = -1\n",
    "    coef_matrix[15, vci['Eps']] = 1/v['sigma_Eps']\n",
    "    coef_matrix[15, vci['E_Eps']] = -1/v['sigma_Eps']\n",
    "\n",
    "    # foc: Eps. wrt A_B\n",
    "    policy_vector[16] = biofuel_tax/(1+v['tau_E'])\n",
    "    coef_matrix[16, pci['p_Eps']] = 1\n",
    "    coef_matrix[16, pci['p_A']] = -1\n",
    "    coef_matrix[16, vci['Eps']] = 1/v['sigma_Eps']\n",
    "    coef_matrix[16, vci['A_B']] = -1/v['sigma_Eps']\n",
    "\n",
    "    # foc: Eps. wrt R\n",
    "    coef_matrix[17, pci['p_Eps']] = 1\n",
    "    coef_matrix[17, pci['p_R']] = -1\n",
    "    coef_matrix[17, vci['Eps']] = 1/v['sigma_Eps']\n",
    "    coef_matrix[17, vci['R']] = -1/v['sigma_Eps']\n",
    "\n",
    "    # foc: P wrt E_P\n",
    "    coef_matrix[18, pci['p_P']] = 1\n",
    "    coef_matrix[18, pci['p_E']] = -1\n",
    "    coef_matrix[18, vci['P']] = 1/v['sigma_P']\n",
    "    coef_matrix[18, vci['E_P']] = -1/v['sigma_P']\n",
    "\n",
    "    # foc: P wrt Pho\n",
    "    coef_matrix[19, pci['p_P']] = 1\n",
    "    coef_matrix[19, pci['p_Pho']] = -1\n",
    "    coef_matrix[19, vci['P']] = 1/v['sigma_P']\n",
    "    coef_matrix[19, vci['Pho']] = -1/v['sigma_P']\n",
    "\n",
    "    # foc: P wrt MP\n",
    "    coef_matrix[20, pci['p_P']] = 1\n",
    "    coef_matrix[20, pci['p_MP']] = -1\n",
    "    coef_matrix[20, vci['P']] = 1/v['sigma_P']\n",
    "    coef_matrix[20, vci['MP']] = -1/v['sigma_P']\n",
    "\n",
    "    # foc: T wrt L_T\n",
    "    coef_matrix[21, pci['p_T']] = 1\n",
    "    coef_matrix[21, pci['p_L']] = -1\n",
    "    coef_matrix[21, vci['T']] = 1/v['sigma_T']\n",
    "    coef_matrix[21, vci['L_T']] = -1/v['sigma_T'] - v['V_T']\n",
    "\n",
    "    # foc: T wrt MT\n",
    "    coef_matrix[22, pci['p_T']] = 1\n",
    "    coef_matrix[22, pci['p_MT']] = -1\n",
    "    coef_matrix[22, vci['T']] = 1/v['sigma_T']\n",
    "    coef_matrix[22, vci['MT']] = -1/v['sigma_T']\n",
    "\n",
    "    # foc: Y wrt EpsY\n",
    "    coef_matrix[23, pci['p_Y']] = 1\n",
    "    coef_matrix[23, pci['p_Eps']] = -1\n",
    "    coef_matrix[23, vci['Y']] = 1/v['sigma_Y']\n",
    "    coef_matrix[23, vci['Eps_Y']] = -1/v['sigma_Y']\n",
    "\n",
    "    # foc: Y wrt MY\n",
    "    coef_matrix[24, pci['p_Y']] = 1\n",
    "    coef_matrix[24, pci['p_MY']] = -1\n",
    "    coef_matrix[24, vci['Y']] = 1/v['sigma_Y']\n",
    "    coef_matrix[24, vci['MY']] = -1/v['sigma_Y']\n",
    "\n",
    "    # foc: Fi wrt E_Fi\n",
    "    coef_matrix[25, pci['p_Fi']] = 1\n",
    "    coef_matrix[25, pci['p_E']] = -1\n",
    "    coef_matrix[25, vci['Fi']] = 1/v['sigma_Fi']\n",
    "    coef_matrix[25, vci['E_Fi']] = -1/v['sigma_Fi']\n",
    "\n",
    "    # foc: Fi wrt MFi\n",
    "    coef_matrix[26, pci['p_Fi']] = 1\n",
    "    coef_matrix[26, pci['p_MFi']] = -1\n",
    "    coef_matrix[26, vci['Fi']] = 1/v['sigma_Fi']\n",
    "    coef_matrix[26, vci['MFi']] = -1/v['sigma_Fi']\n",
    "\n",
    "    # foc: fossil extraction\n",
    "    policy_vector[27] = 1.0/(1+v['tau_E'])\n",
    "    coef_matrix[27, pci['p_E']] = 1\n",
    "    coef_matrix[27, vci['E']] = -v['Lambda_E'] \n",
    "\n",
    "    # foc: phosphate extraction\n",
    "    coef_matrix[28, pci['p_Pho']] = 1\n",
    "    coef_matrix[28, vci['Pho']] = -v['Lambda_Pho'] \n",
    "\n",
    "    # foc: water extraction\n",
    "    coef_matrix[29, pci['p_W']] = 1\n",
    "    coef_matrix[29, vci['W']] = -v['Lambda_W']\n",
    "\n",
    "    # foc: renewables extraction\n",
    "    coef_matrix[30, pci['p_R']] = 1\n",
    "    coef_matrix[30, vci['R']] = -v['Lambda_R']\n",
    "\n",
    "    # foc: MA extraction\n",
    "    coef_matrix[31, pci['p_MA']] = 1\n",
    "    coef_matrix[31, vci['MA']] = -v['Lambda_MA']\n",
    "\n",
    "    # foc: MFi extraction\n",
    "    coef_matrix[32, pci['p_MFi']] = 1\n",
    "    coef_matrix[32, vci['MFi']] = -v['Lambda_MFi']\n",
    "\n",
    "    # foc: MP extraction\n",
    "    coef_matrix[33, pci['p_MP']] = 1\n",
    "    coef_matrix[33, vci['MP']] = -v['Lambda_MP']\n",
    "\n",
    "    # foc: MT extraction\n",
    "    coef_matrix[34, pci['p_MT']] = 1\n",
    "    coef_matrix[34, vci['MT']] = -v['Lambda_MT']\n",
    "\n",
    "    # foc: MY extraction\n",
    "    coef_matrix[35, pci['p_MY']] = 1\n",
    "    coef_matrix[35, vci['MY']] = -v['Lambda_MY']\n",
    "\n",
    "    # foc: U wrt A_F & Fi\n",
    "    coef_matrix[36, pci['p_A']] = 1\n",
    "    coef_matrix[36, pci['p_Fi']] = -1\n",
    "    coef_matrix[36, vci['A_F']] = 1/v['sigma_F']\n",
    "    coef_matrix[36, vci['Fi']] = -1/v['sigma_F']\n",
    "\n",
    "    # foc: U wrt T & L_U\n",
    "    if not land_policy:\n",
    "        coef_matrix[37, pci['p_T']] = 1\n",
    "        coef_matrix[37, pci['p_L']] = -1\n",
    "        coef_matrix[37, vci['T']] = 1/v['sigma_nF']\n",
    "        coef_matrix[37, vci['L_U']] = -1/v['sigma_nF']\n",
    "    else:\n",
    "        coef_matrix[37, vci['L_U']] = 1\n",
    "\n",
    "    # foc: U wrt T & Y\n",
    "    coef_matrix[38, pci['p_T']] = 1\n",
    "    coef_matrix[38, pci['p_Y']] = -1\n",
    "    coef_matrix[38, vci['T']] = 1/v['sigma_nF']\n",
    "    coef_matrix[38, vci['Y']] = -1/v['sigma_nF']\n",
    "\n",
    "    # foc: U wrt A_F & Y\n",
    "    coef_matrix[39, pci['p_A']] = 1\n",
    "    coef_matrix[39, pci['p_Y']] = -1\n",
    "    coef_matrix[39, vci['A_F']] = 1/v['sigma_F'] + (1/v['sigma_U'] - 1/v['sigma_F'])*v['GammaF_AF']\n",
    "    coef_matrix[39, vci['Y']] = -1/v['sigma_nF'] - (1/v['sigma_U'] - 1/v['sigma_nF'])*v['GammanF_Y']\n",
    "    coef_matrix[39, vci['Fi']] = (1/v['sigma_U'] - 1/v['sigma_F'])*v['GammaF_Fi']\n",
    "    coef_matrix[39, vci['T']] = -(1/v['sigma_U'] - 1/v['sigma_nF'])*v['GammanF_T']\n",
    "    coef_matrix[39, vci['L_U']] = -(1/v['sigma_U'] - 1/v['sigma_nF'])*v['GammanF_LU']\n",
    "\n",
    "    # foc: Budget\n",
    "    coef_matrix[40, pci['p_A']] = v['GammaU_AF']\n",
    "    coef_matrix[40, vci['A_F']] = v['GammaU_AF']\n",
    "    coef_matrix[40, pci['p_Y']] = v['GammaU_Y']\n",
    "    coef_matrix[40, vci['Y']] = v['GammaU_Y']\n",
    "    coef_matrix[40, pci['p_Fi']] = v['GammaU_Fi']\n",
    "    coef_matrix[40, vci['Fi']] = v['GammaU_Fi']\n",
    "    coef_matrix[40, pci['p_L']] = v['GammaU_LU']\n",
    "    coef_matrix[40, vci['L_U']] = v['GammaU_LU']\n",
    "    coef_matrix[40, pci['p_T']] = v['GammaU_T']\n",
    "    coef_matrix[40, vci['T']] = v['GammaU_T']\n",
    "\n",
    "    return coef_matrix, policy_vector\n"
   ]
  },
  {
   "cell_type": "markdown",
   "metadata": {},
   "source": [
    "### Model parameters which can be derived from the specified values above"
   ]
  },
  {
   "cell_type": "code",
   "execution_count": null,
   "metadata": {},
   "outputs": [],
   "source": [
    "def gen_subst_effects(p, mean_results, biofuel_tax):\n",
    "    r = mean_results\n",
    "    pci = p['pci']\n",
    "\n",
    "    subst_effect = {k: 0 for k in p['vci'].keys()}\n",
    "    sumP = p['GammaP_EP']*r[pci['p_E']] + p['GammaP_Pho']*r[pci['p_Pho']] + p['GammaP_MP']*r[pci['p_MP']]\n",
    "    sumEps = p['GammaEps_EEps']*r[pci['p_E']] + p['GammaEps_AB']*(biofuel_tax/(1+p['tau_E'])+r[pci['p_A']]) + p['GammaEps_R']*r[pci['p_R']]\n",
    "    \n",
    "    sumY = p['GammaY_EpsY']*r[pci['p_Eps']] + p['GammaY_MY']*r[pci['p_MY']]\n",
    "    sumT = p['GammaT_LT']*r[pci['p_L']] + p['GammaT_MT']*r[pci['p_MT']]\n",
    "    sumFi = p['GammaFi_EFi']*r[pci['p_E']] + p['GammaFi_MFi']*r[pci['p_MFi']]\n",
    "    \n",
    "    sumnLA = (p['sigma_A']*p['GammaA_EpsA'] + (p['sigma_nLA']-p['sigma_A'])*p['GammanLA_EpsA'])*r[pci['p_Eps']]\n",
    "    sumnLA += (p['sigma_A']*p['GammaA_W'] + (p['sigma_nLA']-p['sigma_A'])*p['GammanLA_W'])*r[pci['p_W']]\n",
    "    sumnLA += (p['sigma_A']*p['GammaA_P'] + (p['sigma_nLA']-p['sigma_A'])*p['GammanLA_P'])*r[pci['p_P']]\n",
    "    sumnLA += (p['sigma_A']*p['GammaA_MA'] + (p['sigma_nLA']-p['sigma_A'])*p['GammanLA_MA'])*r[pci['p_MA']]\n",
    "    sumnLA += p['sigma_A']*p['GammaA_LA']*r[pci['p_L']]    \n",
    "\n",
    "    sumLA = p['sigma_A']*(p['GammaA_EpsA']*r[pci['p_Eps']] + p['GammaA_W']*r[pci['p_W']] + p['GammaA_P']*r[pci['p_P']] + p['GammaA_MA']*r[pci['p_MA']])\n",
    "    sumLA += p['sigma_A']*p['GammaA_LA']*r[pci['p_L']]\n",
    "\n",
    "    sumF = (p['sigma_U']*p['GammaU_AF'] + (p['sigma_F']-p['sigma_U'])*p['GammaF_AF'])*r[pci['p_A']]\n",
    "    sumF += (p['sigma_U']*p['GammaU_Fi'] + (p['sigma_F']-p['sigma_U'])*p['GammaF_Fi'])*r[pci['p_Fi']]\n",
    "    sumF += p['sigma_U']*p['GammaU_Y']*r[pci['p_Y']] + p['sigma_U']*p['GammaU_T']*r[pci['p_T']] + p['sigma_U']*p['GammaU_LU']*r[pci['p_L']] \n",
    "\n",
    "    sumnF = (p['sigma_U']*p['GammaU_Y'] + (p['sigma_nF']-p['sigma_U'])*p['GammanF_Y'])*r[pci['p_Y']] \n",
    "    sumnF += (p['sigma_U']*p['GammaU_T'] + (p['sigma_nF']-p['sigma_U'])*p['GammanF_T'])*r[pci['p_T']] \n",
    "    sumnF += (p['sigma_U']*p['GammaU_LU'] + (p['sigma_nF']-p['sigma_U'])*p['GammanF_LU'])*r[pci['p_L']] \n",
    "    sumnF += p['sigma_U']*p['GammaU_AF']*r[pci['p_A']]  + p['sigma_U']*p['GammaU_Fi']*r[pci['p_Fi']] \n",
    "\n",
    "    subst_effect['E_P'] = p['sigma_P']*(sumP - r[pci['p_E']]) \n",
    "    subst_effect['Pho'] = p['sigma_P']*(sumP - r[pci['p_Pho']]) \n",
    "    subst_effect['MP'] = p['sigma_P']*(sumP - r[pci['p_MP']]) \n",
    "    subst_effect['E_Eps'] = p['sigma_Eps']*(sumEps - r[pci['p_E']]) \n",
    "    subst_effect['A_B'] = p['sigma_Eps']*(sumEps - (biofuel_tax/(1+p['tau_E'])+r[pci['p_A']])) \n",
    "    subst_effect['R'] = p['sigma_Eps']*(sumEps - r[pci['p_R']]) \n",
    "\n",
    "    subst_effect['Eps_Y'] = p['sigma_Y']*(sumY - r[pci['p_Eps']]) \n",
    "    subst_effect['MY'] = p['sigma_Y']*(sumY - r[pci['p_MY']]) \n",
    "    subst_effect['L_T'] = p['sigma_T']*(sumT - r[pci['p_L']]) \n",
    "    subst_effect['MT'] = p['sigma_T']*(sumT - r[pci['p_MT']]) \n",
    "    subst_effect['E_Fi'] = p['sigma_Fi']*(sumFi - r[pci['p_E']]) \n",
    "    subst_effect['MFi'] = p['sigma_Fi']*(sumFi - r[pci['p_MFi']]) \n",
    "                            \n",
    "    subst_effect['Eps_A'] = sumnLA - p['sigma_nLA']*r[pci['p_Eps']]\n",
    "    subst_effect['W'] = sumnLA - p['sigma_nLA']*r[pci['p_W']]\n",
    "    subst_effect['P'] = sumnLA - p['sigma_nLA']*r[pci['p_P']]\n",
    "    subst_effect['MA'] = sumnLA - p['sigma_nLA']*r[pci['p_MA']]\n",
    "    subst_effect['L_A'] = sumLA - p['sigma_A']*r[pci['p_L']]\n",
    "\n",
    "    subst_effect['A_F'] = sumF - p['sigma_F']*r[pci['p_A']]\n",
    "    subst_effect['Fi'] = sumF - p['sigma_F']*r[pci['p_Fi']]\n",
    "\n",
    "    subst_effect['Y'] = sumnF - p['sigma_nF']*r[pci['p_Y']]\n",
    "    subst_effect['T'] = sumnF - p['sigma_nF']*r[pci['p_T']] \n",
    "    subst_effect['L_U'] = sumnF - p['sigma_nF']*r[pci['p_L']]\n",
    "          \n",
    "\n",
    "    return {k: (val[0] if isinstance(val, np.ndarray) else val) for k, val in subst_effect.items()}"
   ]
  },
  {
   "cell_type": "code",
   "execution_count": null,
   "metadata": {
    "collapsed": false
   },
   "outputs": [],
   "source": [
    "var_desc_dict = {'L_A': ('$L_A$', '(land-share agriculture)'), 'L_T': ('$L_T$', '(land-share timber)'), 'L_U': ('$L_U$', '(land-share other)'),\n",
    "                'E': ('$E$', '(fossil-fuel extracted)'), 'E_Eps': ('$E_{\\mathcal{E}}$', '(fossil-fuel use energy serv.)'),\n",
    "                'E_P':('$E_P$', '(fossil-fuel use fertilizer prod.)'), 'E_Fi': ('$E_F$', '(fossil-fuel use fisheries)'),\n",
    "                'A': ('$A\\;\\;$', '(agriculture total production)'), 'A_B': ('$A_B$', '(agriculture prod. for biofuels)'), \n",
    "                 'A_F': ('$A_F$', '(agriculture prod. for food)'),\n",
    "                'Eps': ('$\\mathcal{E}\\;\\;$', '(energy services)'), 'Eps_A': ('$\\mathcal{E}_A$', '(energy for agriculture)'), \n",
    "                'Eps_Y': ('$\\mathcal{E}_{Y}$', '(energy services for final goods)'), 'P': ('$P\\;\\;$', '(fertilizer production)'), 'W': ('$W\\;$', '(water production)'),\n",
    "                'Pho': ('$\\mathcal{P}\\;\\;$', '(phosphate extraction)'), 'R': ('$R\\;\\;$', '(renewables production)'), 'Fi': ('$F\\;\\;$','(fisheries production)'), \n",
    "                'T': ('$T\\;\\;$', '(timber production)'), 'Y': ('$Y\\;\\;$', '(final goods)'), 'MA': ('$M_A\\;\\;$', '(intermediaries agriculture.)'), \n",
    "                'MT': ('$M_T\\;\\;$', '(intermediaries timber.)'), 'MFi': ('$M_F\\;\\;$', '(intermediaries fisheries)'), 'MY': ('$M_Y\\;\\;$', '(intermediaries final goods.)'),\n",
    "                'MP': ('$M_P\\;\\;$', '(intermediaries fertilizers)')}\n",
    "\n",
    "# prepare list of price changes and labels\n",
    "price_desc_dict =  {'p_A': ('$p_A$', '(agricultural goods)'), 'p_E': ('$p_E$', '(fossil-fuels)'), 'p_Eps': ('$p_{\\mathcal{E}}$', '(energy services)'),\n",
    "                    'p_Fi': ('$p_{F}$', '(fisheries)'), 'p_L': ('$p_{L}$', '(land)'), 'p_MA': ('$p_{M_A}$', '(intermediaries agric.)'), \n",
    "                    'p_MFi': ('$p_{M_F}$', '(intermediaries fisheries)'), 'p_MP': ('$p_{M_P}$', '(intermediaries fertilizers.)'), \n",
    "                    'p_MT': ('$p_{M_T}$', '(intermediaries timber)'), 'p_MY': ('$p_{M_Y}$', '(intermediaries final goods)'), 'p_P': ('$p_{P}$', '(fertilizers)'), \n",
    "                    'p_Pho': ('$p_{Pho}$', '(phosphate)'), 'p_R': ('$p_{R}$', '(renewables)'), 'p_T': ('$p_{T}$', '(timber)'), 'p_W': ('$p_{W}$', '(water)'), \n",
    "                    'p_Y': ('$p_{Y}$', '(final goods)')}\n",
    "\n",
    "def gen_results(robust_check=True, biofuel_tax=0, land_policy=False, var_desc_dict=var_desc_dict, price_desc_dict=price_desc_dict):\n",
    "\n",
    "    # eos -> elasticity of substitution\n",
    "    sigma_U = [0.4, 0.6, 0.5]  # eos: food and non food (utility) \n",
    "    sigma_F = [1.13, 1.33, 1.23]   # eos: agricult. and fish in food (nested utility)\n",
    "    sigma_nF = [1.5, 2.1, 1.8] # eos: timber, manufacturing and land products (nested utility)\n",
    "    sigma_A = [1.10, 1.24, 1.14]   # eos: land and non-land (agric. prod)\n",
    "    sigma_P = [0.05, 0.3, 0.2]    # eos: phosphor and fossil fuels (fertil. prod)\n",
    "    sigma_nLA = [0.25, 0.75, 0.5]   # eos: phosphor, energy and water (nested agric. prod)\n",
    "    sigma_Eps = [1.5, 2.1, 1.8]  # eos: fossil fuel, renewables and biofuel (energy prod)\n",
    "           \n",
    "    sigma_Fi = [0.1, 1, 0.2]       # eos: fossil fuels, intermediate inputs\n",
    "    sigma_T = [0.1, 1, 0.2]        # eos: land, intermediate inputs\n",
    "    sigma_Y = [0.1, 1, 0.5]        # eos: energy services, intermediate inputs\n",
    "\n",
    "    # supply elasticities (Lambda)\n",
    "    Lambda_R = 1/2.7       # supply elast. renewables\n",
    "    Lambda_E = [0.8, 1.2, 1]           # supply elast. fossil fuel\n",
    "    Lambda_W = 1/1.79      # supply elast. water\n",
    "    Lambda_Pho = 1/1.5     # supply elast. phosphate\n",
    "    # Lambda_Fi = 1/10     # supply elast. fish\n",
    "\n",
    "    Lambda_M = [0, 2, 1]\n",
    "    Lambda_MA = Lambda_M # 1/1.7        # supply elast. intermediates to agriculture\n",
    "    Lambda_MT = Lambda_M                # supply elast. intermediates to timber\n",
    "    Lambda_MY = Lambda_M                # supply elast. intermediates to final goods\n",
    "    Lambda_MP = Lambda_M                # supply elast. intermediates to fertilizers\n",
    "    Lambda_MFi = Lambda_M               # supply elast. intermediates to fisheries\n",
    "\n",
    "\n",
    "    # quantity shares (e.g. Q_LA = LA/L)\n",
    "    Q_LA = 0.53         # share of land used for agriculture\n",
    "    Q_LT = 0.02         # share of land used for timber\n",
    "    Q_AB = 0.038        # share of agri. prod. used for biofuels prod.\n",
    "    Q_EpsA = 0.05        # share of energy used for agri. prod.\n",
    "    Q_EP = 0.014        # share of fossil fuel used for fertilizer prod.\n",
    "    Q_EFi = 0.004       # share of fossil fuel used for fisheries prod.\n",
    "\n",
    "    # factor shares (Gamma)\n",
    "    GammaU_F = 0.1235          # factor share food (utility) x\n",
    "    GammaF_Fi = 0.034          # factor share fish (food) x\n",
    "    GammanF_Y = 0.991          # factor share manufacturing (non-food) x\n",
    "    GammanF_LU = 0.001711      # factor share unused land (non-food) x\n",
    "    GammaA_LA = 0.192          # factor share land (agric. prod) x\n",
    "    GammanLA_P = 0.0796        # factor share phospor (non-land) x\n",
    "    GammanLA_W = 0.0239        # factor share water (non-land) x\n",
    "    GammaP_EP = 0.1095         # factor share fossil fuel (fertilizer prod.)   x\n",
    "    GammaEps_AB = 0.0037       # factor share biofuels (energy services prod.)x\n",
    "    GammaEps_EEps = 0.9433     # factor share fossil fuel (energy services prod.)x\n",
    "    GammaFi_EFi = 0.228        # factor share fossil fuel (fisheries.) \n",
    "    GammaT_LT = 0.3748         # factor share land (timber prod.)x\n",
    "    GammaY_EpsY = 0.0638       # factor share energy (manufacturing.) x\n",
    "    GammanLA_EpsA = 0.0412     # factor share energy services in (non-land)  1-GammanLA_W-GammanLA_P   x\n",
    "    GammaP_Pho = 0.3127        # factor share phosphate (fertilizer prod.) 1-GammaP_EP  x\n",
    "\n",
    "    # elasticity of conversion costs : V_T = (L_T/C_T)*(dC_T/dL_T)\n",
    "    V_T = 0.05\n",
    "    V_A = 0.05\n",
    "\n",
    "    # Carbon tax\n",
    "    tau_E = 0.0\n",
    "    # print(locals())\n",
    "    \n",
    "    # quantity shares (e.g. Q_LA = LA/L)\n",
    "    Q_LU = 1-Q_LT-Q_LA # share of land used for recreation\n",
    "    # Q_EP = 1-Q_EEps-Q_EFi    # share of fossil fuel used for fertilizer prod.\n",
    "\n",
    "    Q_EEps = 1-Q_EFi-Q_EP    # share of fossil fuel used for fisheries prod.\n",
    "\n",
    "    Q_AF = 1-Q_AB      # share of agri. prod. used for food prod.\n",
    "    Q_EpsY = 1-Q_EpsA  # share of energy used for final goods prod.\n",
    "\n",
    "    # factor shares (Gamma)\n",
    "    GammaU_nF = 1-GammaU_F     # factor share non-food (utility)\n",
    "    GammaF_AF = 1-GammaF_Fi    # factor share agricultural (food)\n",
    "    GammanF_T = 1-GammanF_LU-GammanF_Y     # factor share timber (non-food)\n",
    "    GammaA_nLA = 1-GammaA_LA               # factor share non-land (agric. prod)\n",
    "\n",
    "\n",
    "    GammaEps_R = 1 - GammaEps_AB-GammaEps_EEps  # factor share renewables (energy services prod.)\n",
    "    GammaFi_MFi = 1 - GammaFi_EFi               # factor share intermediates (energy services prod.)\n",
    "    GammaT_MT = 1 - GammaT_LT                   # factor share intermediates (energy services prod.)\n",
    "    GammaY_MY = 1 - GammaY_EpsY                 # factor share intermediates (energy services prod.)\n",
    "    GammanLA_MA = 1 - GammanLA_W - GammanLA_P - GammanLA_EpsA    # factor share intermediates (non-land)\n",
    "    GammaP_MP = 1 - GammaP_EP - GammaP_Pho                       # factor share intermediates (fertilizer prod.)\n",
    "\n",
    "    GammaT_LTLT = GammaT_LT-1  \n",
    "    GammaY_EpsYEpsY = GammaY_EpsY-1\n",
    "\n",
    "    GammaA_P = GammaA_nLA*GammanLA_P\n",
    "    GammaA_W = GammaA_nLA*GammanLA_W \n",
    "    GammaA_EpsA = GammaA_nLA*GammanLA_EpsA \n",
    "    GammaU_AF = GammaU_F*GammaF_AF\n",
    "    GammaU_Fi = GammaU_F*GammaF_Fi\n",
    "    GammaU_Y= GammaU_F*GammanF_Y\n",
    "    GammaU_LU= GammaU_F*GammanF_LU\n",
    "    GammaU_T= GammaU_F*GammanF_T\n",
    "    GammaA_MA = GammaA_nLA*GammanLA_MA \n",
    "\n",
    "    local_variables = locals()\n",
    "    local_variables.pop('robust_check', None)\n",
    "    local_variables.pop('biofuel_tax', None)\n",
    "    local_variables.pop('var_desc_dict', None)\n",
    "    local_variables.pop('price_desc_dict', None)\n",
    "    local_variables.pop('land_policy', None)\n",
    "\n",
    "    lv_lists, lv_strings = {}, {}\n",
    "    for k, val in iter(local_variables.items()):\n",
    "        if isinstance(val, list):\n",
    "            if robust_check:\n",
    "                lv_lists[k] = val\n",
    "            else: \n",
    "                # third param in list the mean\n",
    "                lv_strings[k] = val[2]\n",
    "        else:\n",
    "            lv_strings[k] = val\n",
    "\n",
    "    # example: [(0, 0, 0), (0, 0, 1), (0, 1, 0), (0, 1, 1), (1, 0, 0), (1, 0, 1), (1, 1, 0), (1, 1, 1)]\n",
    "    distinct_combination_sets = list(product(range(2), repeat=len(lv_lists)))\n",
    "    results_matrix = np.zeros((41, len(distinct_combination_sets)))\n",
    "    mean_results = np.zeros((41, 1))\n",
    "    \n",
    "    # print distinct_combination_sets\n",
    "    # result_set = []\n",
    "    # Variable order for columns of matrix an rows in the outcome vector: \n",
    "    # L_A, L_T, L_U, E, E_eps, E_P, E_Fi, A, A_B, A_F, Eps, Eps_A, Eps_Y, P, W, Pho, R, Fi, T, Y, MA, MT, MFi, MY, MP\n",
    "    vci = {'L_A': 0, 'L_T': 1, 'L_U': 2, 'E': 3, 'E_Eps': 4, 'E_P': 5, 'E_Fi': 6, 'A': 7, 'A_B': 8, 'A_F': 9, 'Eps': 10, 'Eps_A': 11, 'Eps_Y': 12, 'P': 13, 'W': 14, 'Pho': 15, 'R': 16, 'Fi': 17, 'T': 18, 'Y': 19, 'MA': 20, 'MT': 21, 'MFi': 22, 'MY': 23, 'MP': 24}\n",
    "    pci = {'p_A': 25, 'p_E': 26, 'p_Eps': 27, 'p_Fi': 28, 'p_L': 29, 'p_MA': 30, 'p_MFi': 31, 'p_MP': 32, 'p_MT': 33, 'p_MY': 34, 'p_P': 35, 'p_Pho': 36, 'p_R': 37, 'p_T': 38, 'p_W': 39, 'p_Y': 40}\n",
    "    lv_strings['vci'] = vci\n",
    "    lv_strings['pci'] = pci\n",
    "    counter = 0\n",
    "    for combo in distinct_combination_sets:\n",
    "        combo_id = 0\n",
    "        lc = {}\n",
    "        for key, val in iter(lv_lists.items()):\n",
    "            lc[key] = val[combo[combo_id]]\n",
    "            combo_id += 1\n",
    "        p = lv_strings.copy() \n",
    "        p.update(lc)\n",
    "        coef_matrix, policy_vector = gen_coef_matrix(p, biofuel_tax, land_policy)\n",
    "        # Invert cooeficient matrix and multiply with policy vector\n",
    "        results = np.dot(np.linalg.inv(coef_matrix), policy_vector)\n",
    "        results_matrix[:, counter]= results[:,0]\n",
    "        counter += 1\n",
    "\n",
    "    max_results = np.amax(results_matrix, axis=1)\n",
    "    min_results = np.amin(results_matrix, axis=1)\n",
    "    lc = {}\n",
    "    for key, val in iter(lv_lists.items()):\n",
    "        lc[key] = val[2]\n",
    "        combo_id += 1\n",
    "    p = lv_strings.copy() \n",
    "    p.update(lc)\n",
    "    \n",
    "    coef_matrix, policy_vector = gen_coef_matrix(p, biofuel_tax, land_policy)\n",
    "    # Invert cooeficient matrix and multiply with policy vector\n",
    "    mean_results = np.dot(np.linalg.inv(coef_matrix), policy_vector)\n",
    "    #print(mean_results)\n",
    "    subst_effects = gen_subst_effects(p, mean_results, biofuel_tax)\n",
    "    #mean_results = gen_results(robust_check = False, with_biofuel_tax = with_biofuel_tax)\n",
    "\n",
    "    # display results in table\n",
    "    sol_var_list = []\n",
    "    for key, var in var_desc_dict.items():\n",
    "        var_desc = var[0] + ' ' + '$\\text{'+var[1]+'}$'\n",
    "        sol_var_list.append({'description': var_desc, 'max value':max_results[vci[key]], 'min value':min_results[vci[key]], 'mean value':mean_results[vci[key]][0]})\n",
    "    \n",
    "    # display results in table\n",
    "    sol_price_list = []\n",
    "    for key, var in price_desc_dict.items():\n",
    "        var_desc = var[0]+' '+'$\\text{'+var[1]+'}$'\n",
    "        sol_price_list.append({'description': var_desc, 'max value':results[pci[key]][0], 'min value':results[pci[key]][0], 'mean value':mean_results[pci[key]][0]})\n",
    "\n",
    "    sol_substeffect_list = []\n",
    "    for key, var in var_desc_dict.items():\n",
    "        var_desc = var[0] + ' ' + '$\\text{'+var[1]+'}$'\n",
    "        price_name = 'p_' + key.split('_')[0]\n",
    "        sol_substeffect_list.append({'description': var_desc, 'subst_effect': subst_effects[key], 'mean value': mean_results[vci[key]][0], 'price': mean_results[pci[price_name]][0] })\n",
    "\n",
    "        \n",
    "    df_quantities = pd.DataFrame(sol_var_list)\n",
    "    df_prices = pd.DataFrame(sol_price_list)\n",
    "    df_substeffect = pd.DataFrame(sol_substeffect_list)\n",
    "    return df_quantities, df_prices, df_substeffect\n",
    "   \n",
    "df_carbontax_quantities, df_carbontax_prices, df_carbontax_substeffect = gen_results(robust_check=True, biofuel_tax=0, land_policy=False)\n"
   ]
  },
  {
   "cell_type": "markdown",
   "metadata": {},
   "source": [
    "### Quantity changes"
   ]
  },
  {
   "cell_type": "code",
   "execution_count": null,
   "metadata": {},
   "outputs": [],
   "source": [
    "df_carbontax_quantities"
   ]
  },
  {
   "cell_type": "markdown",
   "metadata": {},
   "source": [
    "### Price changes"
   ]
  },
  {
   "cell_type": "code",
   "execution_count": null,
   "metadata": {},
   "outputs": [],
   "source": [
    "df_carbontax_prices"
   ]
  },
  {
   "cell_type": "markdown",
   "metadata": {},
   "source": [
    "## Solve with tax on biofuel "
   ]
  },
  {
   "cell_type": "code",
   "execution_count": null,
   "metadata": {},
   "outputs": [],
   "source": [
    "df_biofuel_quantities, df_biofuel_prices, df_biofuel_substeffect = gen_results(robust_check=True, biofuel_tax=1)\n"
   ]
  },
  {
   "cell_type": "code",
   "execution_count": null,
   "metadata": {},
   "outputs": [],
   "source": [
    "df_biofuel_quantities[[\"description\", \"min value\",\"max value\",\"mean value\" ]]"
   ]
  },
  {
   "cell_type": "markdown",
   "metadata": {},
   "source": [
    "### Quantity changes with biofuel policy"
   ]
  },
  {
   "cell_type": "code",
   "execution_count": null,
   "metadata": {},
   "outputs": [],
   "source": [
    "df_biofuel_quantities"
   ]
  },
  {
   "cell_type": "markdown",
   "metadata": {},
   "source": [
    "### Price changes with biofuel policy"
   ]
  },
  {
   "cell_type": "code",
   "execution_count": null,
   "metadata": {},
   "outputs": [],
   "source": [
    "df_biofuel_prices #.to_excel('carbon+biofuel_prices.xlsx')"
   ]
  },
  {
   "cell_type": "code",
   "execution_count": null,
   "metadata": {},
   "outputs": [],
   "source": [
    "df_biofuel_substeffect"
   ]
  },
  {
   "cell_type": "markdown",
   "metadata": {},
   "source": [
    "## Experimental: Solve holding $L_U$ fixed"
   ]
  },
  {
   "cell_type": "code",
   "execution_count": null,
   "metadata": {
    "collapsed": false
   },
   "outputs": [],
   "source": [
    "#df_land_quantities, df_land_prices, df_land_substeffect = gen_results(robust_check=True, biofuel_tax=0, land_policy=True)\n"
   ]
  },
  {
   "cell_type": "markdown",
   "metadata": {},
   "source": [
    "### Price changes"
   ]
  },
  {
   "cell_type": "code",
   "execution_count": null,
   "metadata": {
    "collapsed": false
   },
   "outputs": [],
   "source": [
    "#df_land_prices"
   ]
  },
  {
   "cell_type": "markdown",
   "metadata": {},
   "source": [
    "### Quantity changes"
   ]
  },
  {
   "cell_type": "code",
   "execution_count": null,
   "metadata": {},
   "outputs": [],
   "source": [
    "#df_land_quantities"
   ]
  },
  {
   "cell_type": "markdown",
   "metadata": {},
   "source": [
    "# For PNAS Latex Table and Figure"
   ]
  },
  {
   "cell_type": "code",
   "execution_count": null,
   "metadata": {},
   "outputs": [],
   "source": [
    "\n",
    "df_full = df_carbontax_quantities.copy().rename(columns={'mean value': 'outcome'}).loc[:, ['description', 'outcome']]\n",
    "df_price_full = df_carbontax_prices.rename(columns={'mean value': 'prices'}).loc[:, ['description', 'prices']]\n",
    "\n",
    "df_full['outcome_biofuel'] = df_biofuel_quantities.reset_index().rename(columns={'mean value': 'outcome_biofuel'})['outcome_biofuel']\n",
    "df_price_full['prices_biofuel'] = df_biofuel_prices['mean value']\n",
    "\n",
    "#df_full['outcome_land'] = df_land_quantities.reset_index().rename(columns={'mean value': 'outcome_land'})['outcome_land']\n",
    "#df_price_full['prices_land'] = df_land_prices['mean value']\n",
    "\n",
    "df_full = df_full.rename(columns={'description': 'index'})\n",
    "df_price_full = df_price_full.rename(columns={'description': 'index'})\n",
    "\n",
    "df_full"
   ]
  },
  {
   "cell_type": "markdown",
   "metadata": {},
   "source": [
    "### Generate model variables result table"
   ]
  },
  {
   "cell_type": "code",
   "execution_count": null,
   "metadata": {},
   "outputs": [],
   "source": [
    "import importlib\n",
    "from web_model import pb_table_generators as pt\n",
    "importlib.reload(pt)\n",
    "t = pt.model_variable_result_table(var_desc_dict, price_desc_dict, df_full, df_price_full)"
   ]
  },
  {
   "cell_type": "markdown",
   "metadata": {},
   "source": [
    "# PB impacts"
   ]
  },
  {
   "cell_type": "code",
   "execution_count": null,
   "metadata": {
    "collapsed": false
   },
   "outputs": [],
   "source": [
    "# Set policy outcome dataframe from which to generate an impact analysis\n",
    "\n",
    "# Use: df_carbontax_quantities\n",
    "df_base_policy = df_carbontax_quantities.rename(columns={'mean value': 'outcome', 'description': 'index'})[['index', 'outcome']].apply(lambda x: pd.Series([re.search(r'\\((.*?)\\)', x['index']).group(1).title(), re.findall(\"\\$(.*?)\\$\", x['index'])[0].replace('\\;', ''), x['outcome']], index=['index', 'variable', 'outcome']), axis=1)\n",
    "\n",
    "# Use: df_biofuel_quantities\n",
    "#df_base_policy = df_biofuel_quantities.rename(columns={'mean value': 'outcome', 'description': 'index'})[['index', 'outcome']].apply(lambda x: pd.Series([re.search(r'\\((.*?)\\)', x['index']).group(1).title(), re.findall(\"\\$(.*?)\\$\", x['index'])[0].replace('\\;', ''), x['outcome']], index=['index', 'variable', 'outcome']), axis=1)\n",
    "\n",
    "# Use: df_land_quantities\n",
    "#df_base_policy = df_land_quantities.rename(columns={'mean value': 'outcome', 'description': 'index'})[['index', 'outcome']].apply(lambda x: pd.Series([re.search(r'\\((.*?)\\)', x['index']).group(1).title(), x['outcome']], index=['index', 'outcome']), axis=1)\n",
    "\n",
    "df_base_policy"
   ]
  },
  {
   "cell_type": "markdown",
   "metadata": {},
   "source": [
    "## Aersols\n",
    "\n",
    "The impact of aerosols in terms of their effect on climate change can be estimated via radiative forcing (see table 8.4 in\n",
    "https://www.ipcc.ch/site/assets/uploads/2018/02/WG1AR5_Chapter08_FINAL.pdf). As to the PB impact we adopt the aersol optical\n",
    "depth measure used in Steffen et al. we base our estinates on data from 3 sources:\n",
    "1) Streets et al:  Anthropogenic and natural contributions to regional trends inaerosol optical depth, 1980–2006: https://pdfs.semanticscholar.org/8dbf/77f8c55ce39c7654a78ebe129098054fc47b.pdf\n",
    "2) Lamarque. Historical (1850–2000) gridded anthropogenic and biomass burningemissions http://pure.iiasa.ac.at/id/eprint/9279/1/acp-10-7017-2010.pdf\n",
    "3) Levine. Biomass Burning: The Cycling of Gases and Particulates from the Biosphere to the Atmosphere https://www-sciencedirect-com.ezp.sub.su.se/science/article/pii/B0080437516041438\n",
    "\n",
    "Spurious Notes: \n",
    "\n",
    "In interpretation of results note that radiative forcing and AOD (control variable in PB framework) are inversely related (see e.g. /http://www.aaqr.org/files/article/6789/5_AAQR-17-12-AC3-0600_38-48.pdf ; https://www.nist.gov/sites/default/files/documents/mml/opt_prop_schwartz.pdf ; http://cdn.intechopen.com/pdfs/38765/InTech-Aerosol_direct_radiative_forcing_a_review.pdf)\n",
    "\n",
    " From https://www.bp.com/content/dam/bp/business-sites/en/global/corporate/pdfs/energy-economics/statistical-review/bp-stats-review-2019-full-report.pdf we have that: Biofuels: 95371 Thousand tonnes oil equivalent Fossilfuels (Oil, gas coal): 4662.1 + 3309.4 + 3772.1 Million tonnes oil equivalent.\n"
   ]
  },
  {
   "cell_type": "markdown",
   "metadata": {},
   "source": [
    "### From Streets et al we can extract global AOD average measures."
   ]
  },
  {
   "cell_type": "code",
   "execution_count": null,
   "metadata": {},
   "outputs": [],
   "source": [
    "Streets_table2 = pd.read_csv('Streets_table2.csv', delimiter=';', index_col='Region')    # Emissions, Total Mass Burden, and AOD by Region for 2001\n",
    "Streets_table4 = pd.read_csv('Streets_table4.csv', delimiter=';', index_col='Region')    # Average Contributions of Aerosol Types to Estimated AOD From 1980 to 2006\n",
    "Streets_table2 = Streets_table2.loc[Streets_table2.Parameter=='AOD']\n",
    "#df_aerosols = pd.read_csv('Streets_table2.txt', sep='\\t', lineterminator='\\r')\n",
    "df_aerosols = Streets_table2.copy()\n",
    "for idx, row in df_aerosols.iterrows():\n",
    "    df_aerosols.at[idx, 'Sulfur'] = row['Sulfur']*Streets_table4.loc[idx, 'Sulfur-Anthro']/100\n",
    "    df_aerosols.at[idx, 'BC'] = row['BC']*Streets_table4.loc[idx, 'BC-Anthro']/100\n",
    "    df_aerosols.at[idx, 'OC'] = row['OC']*Streets_table4.loc[idx, 'OC-Anthro']/100"
   ]
  },
  {
   "cell_type": "code",
   "execution_count": null,
   "metadata": {},
   "outputs": [],
   "source": [
    "print(df_aerosols[[\"Sulfur\", \"BC\", \"OC\"]].mean(axis=0))\n",
    "df_aerosols\n"
   ]
  },
  {
   "cell_type": "markdown",
   "metadata": {},
   "source": [
    "### From: Lamarque et al.: 1850–2000 gridded anthropogenic and biomass burning emissions"
   ]
  },
  {
   "cell_type": "code",
   "execution_count": null,
   "metadata": {},
   "outputs": [],
   "source": [
    "Biomass_burning_emissions = {'BC': 2.61, 'OC': 23.25, 'SO2': 3.84 } # From table 9. in J.-F. Lamarque et al.: 1850–2000 gridded anthropogenic and biomass burning emissions\n",
    "Global_anthropogenic_emissions = {'BC': 5.02, 'OC': 12.56, 'SO2': 92.71 } # From table 7 in  J.-F. Lamarque et al.: 1850–2000 gridded anthropogenic and biomass burning emissions\n",
    "\n",
    "Global_anthropogenic_biomass_burning_emissions = {k: v*0.9 for k, v in Biomass_burning_emissions.items()}\n",
    "# Note: 0.9 is a measure of percentage of biomass burning from land-use change in https://www-sciencedirect-com.ezp.sub.su.se/science/article/pii/B0080437516041438\n",
    "\n",
    "Global_anthropogenic_incl_biomass_burning_emissions = {k: v+Global_anthropogenic_biomass_burning_emissions[k] for k, v in Global_anthropogenic_emissions.items()}\n",
    "\n",
    "Share_Global_anthropogenic_biomass_burning_emissions = {k: Global_anthropogenic_biomass_burning_emissions[k]/v for k, v in Global_anthropogenic_incl_biomass_burning_emissions.items()}\n",
    "sg = Share_Global_anthropogenic_biomass_burning_emissions\n",
    "sum(list(sg.values()))"
   ]
  },
  {
   "cell_type": "markdown",
   "metadata": {},
   "source": [
    "### Compute global anthropogenic AOD "
   ]
  },
  {
   "cell_type": "code",
   "execution_count": null,
   "metadata": {},
   "outputs": [],
   "source": [
    "df_aerosols_mean = df_aerosols[[\"Sulfur\", \"BC\", \"OC\"]].mean(axis=0)\n",
    "df_aerosols_mean_from_fossil_and_bio_fuels = df_aerosols_mean*np.array([1-sg['SO2'], 1-sg['BC'], 1-sg['OC']])\n",
    "df_aerosols_mean_from_biomass = df_aerosols_mean - df_aerosols_mean_from_fossil_and_bio_fuels\n",
    "\n",
    "AOD_global_fbf = df_aerosols_mean_from_fossil_and_bio_fuels.sum()\n",
    "AOD_global_biomass = df_aerosols_mean_from_biomass.sum()\n",
    "print(AOD_global_fbf)\n",
    "print(AOD_global_biomass)"
   ]
  },
  {
   "cell_type": "code",
   "execution_count": null,
   "metadata": {},
   "outputs": [],
   "source": [
    "Share_of_AOD_attributed_to_biofuels = AOD_global_biomass/(AOD_global_biomass+AOD_global_fbf)\n",
    "Share_of_AOD_attributed_to_biofuels"
   ]
  },
  {
   "cell_type": "markdown",
   "metadata": {},
   "source": [
    "### Compute Aerosol effect from policy"
   ]
  },
  {
   "cell_type": "code",
   "execution_count": null,
   "metadata": {},
   "outputs": [],
   "source": [
    "Q_EP = 0.014        # share of fossil fuel used for fertilizer prod.\n",
    "Q_EFi = 0.004       # share of fossil fuel used for fisheries prod.\n",
    "Q_EEps = 1 - Q_EFi -Q_EP\n",
    "Q_bio = 95371/(1000*(4662.1 + 3309.4 + 3772.1)+95371)   # Share of biofuels in tot biofuel+fossil prod.\n",
    "Q_ff = 1-Q_bio\n",
    " \n",
    "# 'Aerosol effect': the net change in radiative forcing from imposing a carbon tax (note: a positive value implies a increase in radiative forcing aka a decrease of AOD)\n",
    "df_base_policy.loc[:, 'Aerosol effect'] = 0\n",
    "df_base_policy.loc[2, 'Aerosol effect'] = -AOD_global_biomass*df_base_policy.loc[2, 'outcome']          # Natural land \n",
    "df_base_policy.loc[4, 'Aerosol effect'] = AOD_global_fbf*df_base_policy.loc[4, 'outcome']*Q_ff*Q_EEps  # Fossil fuel consump. energy services\n",
    "df_base_policy.loc[5, 'Aerosol effect'] = AOD_global_fbf*df_base_policy.loc[5, 'outcome']*Q_ff*Q_EP    # Fossil fuel consump.  Fertilizer Prod\n",
    "df_base_policy.loc[6, 'Aerosol effect'] = AOD_global_fbf*df_base_policy.loc[6, 'outcome']*Q_ff*Q_EFi  # Fossil fuel consump. fisheries   \n",
    "df_base_policy.loc[8, 'Aerosol effect'] = AOD_global_fbf*df_base_policy.loc[8, 'outcome']*Q_bio    # Biofuel fuel prod\n",
    "\n",
    "print('Total effect:', round(df_base_policy['Aerosol effect'].sum(), 5), '%')\n",
    "print('Total effect (AOD):', (AOD_global_fbf+AOD_global_biomass)*df_base_policy['Aerosol effect'].sum()/100)\n",
    "df_base_policy\n",
    "\n"
   ]
  },
  {
   "cell_type": "markdown",
   "metadata": {},
   "source": [
    "## Climate impacts\n",
    "### Methodology\n",
    "\n",
    "In order to calculate the climate impact from the change in model variables resulting from the carbon tax we use data from two sources http://www.wri.org/sites/default/files/world_ghg_flow_chart_2005.png and https://www.nature.com/news/one-third-of-our-greenhouse-gas-emissions-come-from-agriculture-1.11708. From the graph of sectorial CO2 emissions from WRI we make the following assumptions in terms of how this connects to our model varaibles. \n",
    "\n",
    "* From the energy related emissions in the WRI graph (a total 66.5% = 29,36 GtCO2 eq). We wish to split this total into emissions from energy service production, fossil fuel extraction and emissions from fertilizer production. From the WRI graph we know that 6.4%+1.3%+2.2%=9.9% (3.98 GtCO2 eq) the total energy related emissions is due to extraction processes. From the Nature article we have that 0.575 GtCO2 eq is estimated to be released from fertilizer production. Hence we split the total energy related emission of 29,36 GtCO2 eq as follows\n",
    "  * 24,41 GtCO2 eq are connected to the energy services variable in our model. (55.3%)\n",
    "  * 3.98 GtCO2 eq are connected to the fossil fuel extraction variable in our model. (9.9%)\n",
    "  * 0.575 GtCO2 eq are connected to fertilizer production. (1.3%)\n",
    "* Emissions from industrial processes are linked to Final goods production in our model (In total 4.3% = 1.9 GtCO2 eq)\n",
    "* Emission from land-use change are linked to the change in natural land in our model (12.2% = 5.387 GtCO2 eq).\n",
    "* Emissions from agriculture are linked to total agricultural production in our model (13.8% = 6.093 GtCO2 eq)\n",
    "* Emissions from fisheries in 2005 where approximately 0.14 GtCO2 (0.32%) (see https://s3-us-west-2.amazonaws.com/legacy.seaaroundus/researcher/dpauly/PDF/2019/Journal+Articles/Greer+et+al%2C+2019%2C+CO2.pdf)\n",
    "\n",
    "Totals 97.4 % of total emissions."
   ]
  },
  {
   "cell_type": "markdown",
   "metadata": {},
   "source": []
  },
  {
   "cell_type": "code",
   "execution_count": null,
   "metadata": {
    "collapsed": false
   },
   "outputs": [],
   "source": [
    "# 44.153 GtCO2 in 2005  \n",
    "# https://www.ipcc.ch/pdf/assessment-report/ar5/wg3/ipcc_wg3_ar5_technical-summary.pdf\n",
    "total_emissions=44.153\n",
    "df_base_policy.loc[:, 'CO2 effect'] = 0\n",
    "df_base_policy.loc[2, 'CO2 effect'] = -1*5.387*df_base_policy.loc[2, 'outcome']/total_emissions  # change in natural land \n",
    "df_base_policy.loc[3, 'CO2 effect'] = 3.98*df_base_policy.loc[3, 'outcome']/total_emissions     # fossil fuel extraction \n",
    "df_base_policy.loc[4, 'CO2 effect'] = 25.960*df_base_policy.loc[4, 'outcome']/total_emissions    # Fossil-Fuel Use Energy Serv.\n",
    "df_base_policy.loc[5, 'CO2 effect'] = 0.575*df_base_policy.loc[5, 'outcome']/total_emissions    # Fossils in fertilizer production\n",
    "df_base_policy.loc[6, 'CO2 effect'] = 0.14*df_base_policy.loc[6, 'outcome']/total_emissions    # Fossils in fisheries\n",
    "df_base_policy.loc[7, 'CO2 effect'] = 6.093*df_base_policy.loc[7, 'outcome']/total_emissions     # Emissions from Agriculture\n",
    "df_base_policy.loc[19, 'CO2 effect'] = 1.9*df_base_policy.loc[19, 'outcome']/total_emissions   # Fossil-Fuel Use Final goods\n",
    "# df_base_policy.loc[:, 'CO2 effect'] = df_base_policy.loc[:, 'CO2 effect']/100\n",
    "total_co2_effect = round(sum(df_base_policy['CO2 effect']), 4)\n",
    "\n",
    "print('Total CO2 effect percent: ', total_co2_effect, ' % of total')\n",
    "print('Total CO2 GtCO2: ', total_co2_effect*total_emissions/100, ' GtCO2')\n",
    "\n",
    "df_base_policy"
   ]
  },
  {
   "cell_type": "markdown",
   "metadata": {},
   "source": [
    "## Biodiversity impacts\n",
    "\n",
    "For biodiversity impacts we use the results from the Nature article https://www.nature.com/news/biodiversity-the-ravages-of-guns-nets-and-bulldozers-1.20381. \n",
    "\n",
    "Here we have connected the categories of threatened species by driver in the article to our model variables and multiplied the numbers in the article by the percentage change in our model variables.\n",
    "\n",
    "30/10-2019: We skip biodiversity effect of climate since we wish to avoid unit dependencies. For example, the strength biodiversity effect of climate would be contingent on the time period we are considering (due to larger emissions for a larger time span)."
   ]
  },
  {
   "cell_type": "code",
   "execution_count": null,
   "metadata": {
    "collapsed": false
   },
   "outputs": [],
   "source": [
    "total_num_threats = 25779   # Non-mutually exclusive sum \n",
    "\n",
    "df_base_policy.loc[:, 'biodiv-val'] = 0\n",
    "df_base_policy.loc[3, 'biodiv-val'] = 56    # Energy production (OIL and GAS)\n",
    "df_base_policy.loc[16, 'biodiv-val'] = 56   # Energy production (Renewable Energy)\n",
    "df_base_policy.loc[17, 'biodiv-val'] = 1118 # Over exploitation (Fishing)\n",
    "df_base_policy.loc[18, 'biodiv-val'] = 4049 # Over exploitation (Logging)\n",
    "df_base_policy.loc[7, 'biodiv-val'] = 5407-112  # Agricultural activity\n",
    "df_base_policy.loc[13, 'biodiv-val'] = 1523     # Pollution (Agriculture)\n",
    "df_base_policy.loc[19, 'biodiv-val'] = 907+(1901-1523)+236+1219+833      # Urban dev. (industrial) + Pollution (except Agriculture) + Human dist. (work) + Transport + Energy production (Mining)\n",
    "df_base_policy.loc[:, 'Biodiv. effect'] = df_base_policy['outcome']*df_base_policy['biodiv-val']/total_num_threats\n",
    "df_base_policy.loc[:, 'Biodiv. climate effect'] = 0*df_base_policy['CO2 effect']*1688/total_num_threats\n",
    "df_base_policy.loc[:, 'Biodiv. incl. climate effect'] = 100*((1+df_base_policy.loc[:, 'Biodiv. effect']/100)*(1+df_base_policy.loc[:, 'Biodiv. climate effect']/100)-1)\n",
    "\n",
    "# total_effect_biodiversity = round(sum(df_base_policy['Biodiv. effect']), 4)\n",
    "# print('Total effect on biodiversity: ', total_effect_biodiversity, 'species')\n",
    "\n",
    "# total_effect_biodiversity_incl_climate = total_effect_biodiversity + 1688*total_co2_effect_percent\n",
    "# print('Total effect on biodiversity incl. climate change: ', total_effect_biodiversity_incl_climate, 'species')\n",
    "\n",
    "# print('Total effect on biodiversity incl. climate change percent: ', total_effect_biodiversity_incl_climate/total_num_threatend_species, '%')\n",
    "df_base_policy = df_base_policy.drop(columns=['biodiv-val'])\n",
    "\n",
    "print('Total effect:', round(df_base_policy['Biodiv. incl. climate effect'].sum(), 5), '%')\n",
    "\n",
    "df_base_policy\n"
   ]
  },
  {
   "cell_type": "markdown",
   "metadata": {},
   "source": [
    "## Biogeochemical \n",
    "\n",
    "We assume nitrogen flows are proportional to fossil fuel use. Hence a percentage increase in fossil fuel use in fertilizer production is translated to the same percentage increase in the nitrogen flow. Concerning phosphate this related one-to-one with phosphate extraction in our model. The results are: "
   ]
  },
  {
   "cell_type": "code",
   "execution_count": null,
   "metadata": {},
   "outputs": [],
   "source": [
    "df_base_policy.loc[:, 'Biogeochem. effect'] = 0\n",
    "df_base_policy.loc[5, 'Biogeochem. effect'] = df_base_policy.loc[5, 'outcome']\n",
    "df_base_policy.loc[15, 'Biogeochem. effect'] = df_base_policy.loc[15, 'outcome']\n",
    "\n",
    "print('Total Phosp. effect percent: ', round(df_base_policy.loc[15, 'Biogeochem. effect'], 4), '%')\n",
    "print('Total Nitrog. effect percent: ', round(df_base_policy.loc[5, 'Biogeochem. effect'], 4), ' %')\n",
    "\n",
    "print('Total Phosp. effect (Gg P y-1): ', round(14000*df_base_policy.loc[15, 'Biogeochem. effect']/100, 4), 'Gg P y-1')\n",
    "print('Total Nitrog. effect (Tg P y-1): ', round(150*df_base_policy.loc[5, 'Biogeochem. effect']/100, 4), 'Tg P y-1')\n",
    "\n",
    "df_base_policy"
   ]
  },
  {
   "cell_type": "markdown",
   "metadata": {},
   "source": [
    "## Water"
   ]
  },
  {
   "cell_type": "code",
   "execution_count": null,
   "metadata": {},
   "outputs": [],
   "source": [
    "df_base_policy.loc[:, 'Freshwater effect'] = 0\n",
    "df_base_policy.loc[14, 'Freshwater effect'] = df_base_policy.loc[14, 'outcome']\n",
    "\n",
    "print('Total Water effect percent: ', round(df_base_policy.loc[14, 'Freshwater effect'], 4), '%')\n",
    "print('Total Water. effect (km3 yr-1): ', round(2600*df_base_policy.loc[14, 'Freshwater effect']/100, 4), 'km3 yr-1')\n",
    "\n",
    "df_base_policy"
   ]
  },
  {
   "cell_type": "markdown",
   "metadata": {},
   "source": [
    "## Ocean acidification\n",
    "We estimate that roughly 30% of CO2 disolves in oceans."
   ]
  },
  {
   "cell_type": "code",
   "execution_count": null,
   "metadata": {},
   "outputs": [],
   "source": [
    "df_base_policy.loc[:, 'Ocean acid. effect'] = 0\n",
    "df_base_policy.loc[:, 'Ocean acid. effect'] = df_base_policy.loc[:, 'CO2 effect']\n",
    "df_base_policy"
   ]
  },
  {
   "cell_type": "markdown",
   "metadata": {},
   "source": [
    "## Land-use"
   ]
  },
  {
   "cell_type": "code",
   "execution_count": null,
   "metadata": {},
   "outputs": [],
   "source": [
    "df_base_policy.loc[:, 'Land-use effect'] = 0\n",
    "df_base_policy.loc[2, 'Land-use effect'] = df_base_policy.loc[2, 'outcome']\n",
    "\n",
    "print('Total effect:', round(df_base_policy['Land-use effect'].sum(), 5), '%')\n",
    "print('Total effect (mHa):', round(3507*df_base_policy['Land-use effect'].sum()/100, 4))\n",
    "\n",
    "df_base_policy"
   ]
  },
  {
   "cell_type": "markdown",
   "metadata": {},
   "source": [
    "## Stratospheric Ozone\n",
    "Anthropogenic ozone-depleting substances are essentially under control via the montreal protocol. Other than that\n",
    "ozone depletion is positively correlated with climate change and NO2. The two later are largely due to agriculture and fossil fuel use and industry.\n",
    "\n",
    "We do not consider cross-boundary effects and thus disregard from climate change.\n",
    "\n",
    "Ozone is impacted by fossil fuel burning (energy services and fisheries), agricultural production (released e.g. from soil), burning of biofuels and industry.\n",
    "\n",
    "We don´t quantify this process but rather assume a qualitative direction based on the above. If all affected variables become negative then the overall qualitative prediction will be negative."
   ]
  },
  {
   "cell_type": "code",
   "execution_count": null,
   "metadata": {},
   "outputs": [],
   "source": [
    "df_base_policy.loc[:, 'Ozone effect'] = 0\n",
    "# df_base_policy.loc[:, 'Ozone effect'] = -1*(df_base_policy.loc[:, 'CO2 effect'] < 0).apply(int)\n",
    "#df_base_policy.loc[3, 'Ozone effect'] = min(max(-1*int(df_base_policy.loc[3, 'outcome'] < 0)+df_base_policy.loc[3, 'Ozone effect'], -1), 1)    # N02 fossil fuels\n",
    "#df_base_policy.loc[7, 'Ozone effect'] = min(max(-1*int(df_base_policy.loc[7, 'outcome'] < 0)+df_base_policy.loc[7, 'Ozone effect'], -1), 1)    #  NO2 from agric.\n",
    "#df_base_policy.loc[8, 'Ozone effect'] = min(max(-1*int(df_base_policy.loc[8, 'outcome'] < 0)+df_base_policy.loc[8, 'Ozone effect'], -1), 1)    #  NO2 from biofuel burning.\n",
    "#df_base_policy.loc[19, 'Ozone effect'] = min(max(-1*int(df_base_policy.loc[19, 'outcome'] < 0)+df_base_policy.loc[19, 'Ozone effect'], -1), 1) # NO2 from industry.\n",
    "df_base_policy.loc[3, 'Ozone effect'] = -1 if df_base_policy.loc[3, 'outcome'] < 0  else 1  # N02 fossil fuels\n",
    "df_base_policy.loc[7, 'Ozone effect'] = -1 if df_base_policy.loc[7, 'outcome'] < 0  else 1    #  NO2 from agric.\n",
    "df_base_policy.loc[8, 'Ozone effect'] = -1 if df_base_policy.loc[8, 'outcome'] < 0  else 1    #  NO2 from biofuel burning.\n",
    "df_base_policy.loc[19, 'Ozone effect'] = -1 if df_base_policy.loc[19, 'outcome'] < 0  else 1 # NO2 from industry.\n",
    "\n",
    "df_base_policy"
   ]
  },
  {
   "cell_type": "markdown",
   "metadata": {},
   "source": [
    "# Chemical pollution\n",
    "\n",
    "Inline with Stratospheric ozone we do a qualitative assesment on this process based on model variables fossil fuel extracted, agriculture total and final goods.\n"
   ]
  },
  {
   "cell_type": "code",
   "execution_count": null,
   "metadata": {},
   "outputs": [],
   "source": [
    "df_base_policy.loc[:, 'Chem. effect'] = 0\n",
    "df_base_policy.loc[3, 'Chem. effect'] = -1*int(df_base_policy.loc[3, 'outcome'] < 0)+df_base_policy.loc[3, 'Chem. effect']   # fossil fuels\n",
    "df_base_policy.loc[7, 'Chem. effect'] = -1*int(df_base_policy.loc[7, 'outcome'] < 0)+df_base_policy.loc[7, 'Chem. effect']   # agric.\n",
    "df_base_policy.loc[19, 'Chem. effect'] = -1*int(df_base_policy.loc[19, 'outcome'] < 0)+df_base_policy.loc[19, 'Chem. effect']   # industry.\n",
    "\n",
    "\n",
    "df_base_policy"
   ]
  },
  {
   "cell_type": "markdown",
   "metadata": {},
   "source": [
    "## Final output"
   ]
  },
  {
   "cell_type": "code",
   "execution_count": null,
   "metadata": {},
   "outputs": [],
   "source": [
    "df_final_impact = df_base_policy[['index', 'variable', 'CO2 effect', 'Biodiv. incl. climate effect', 'Biogeochem. effect', 'Freshwater effect', \n",
    "                                  'Ocean acid. effect', 'Land-use effect', 'Aerosol effect', 'Ozone effect', 'Chem. effect']]\n",
    "df_final_impact.to_excel('PB_impacts.xlsx')\n",
    "df_final_impact"
   ]
  },
  {
   "cell_type": "markdown",
   "metadata": {},
   "source": [
    "### Generate pb impact tables"
   ]
  },
  {
   "cell_type": "code",
   "execution_count": null,
   "metadata": {},
   "outputs": [],
   "source": [
    "import importlib\n",
    "from web_model import pb_table_generators as pt\n",
    "importlib.reload(pt)\n",
    "pt.model_pbimpact_result_table(df_final_impact)"
   ]
  },
  {
   "cell_type": "markdown",
   "metadata": {},
   "source": [
    "### Generate parameter tables"
   ]
  },
  {
   "cell_type": "code",
   "execution_count": null,
   "metadata": {},
   "outputs": [],
   "source": [
    "import importlib\n",
    "from web_model import pb_table_generators as pt\n",
    "importlib.reload(pt)\n",
    "#pt.model_pbimpact_result_table(df_final_impact)"
   ]
  },
  {
   "cell_type": "code",
   "execution_count": null,
   "metadata": {},
   "outputs": [],
   "source": [
    "pt.param_expshare_table()\n",
    "pt.param_qshare_table()\n",
    "pt.param_elast_table()"
   ]
  },
  {
   "cell_type": "markdown",
   "metadata": {},
   "source": [
    "### Generate sensitivity table"
   ]
  },
  {
   "cell_type": "code",
   "execution_count": null,
   "metadata": {},
   "outputs": [],
   "source": [
    "import importlib\n",
    "from web_model import pb_table_generators as pt\n",
    "importlib.reload(pt)\n",
    "pt.model_variable_sensitivity_table(var_desc_dict, df_carbontax_quantities, df_biofuel_quantities)"
   ]
  },
  {
   "cell_type": "markdown",
   "metadata": {},
   "source": [
    "## web model test"
   ]
  },
  {
   "cell_type": "code",
   "execution_count": null,
   "metadata": {},
   "outputs": [],
   "source": [
    "import importlib\n",
    "from web_model import model, params\n",
    "importlib.reload(params)\n",
    "param_list = list(params.df_typing_formatting.T.to_dict().values())\n",
    "df_baseline_model_result = model.solve(param_list)\n",
    "\n",
    "def sum_pb_results(df_baseline_model_result):\n",
    "    df_baseline_model_result_tot = df_baseline_model_result.sum()\n",
    "\n",
    "    chem_tot = -1*all(df_baseline_model_result.loc[:, 'Chem. effect'].values<=0)\n",
    "    if chem_tot > -1:\n",
    "        chem_tot = 1*all(df_baseline_model_result.loc[:, 'Chem. effect'].values>=0)\n",
    "    ozone_tot = -1*all(df_baseline_model_result.loc[:, 'Ozone effect'].values<=0)\n",
    "    if ozone_tot > -1:\n",
    "        ozone_tot = 1*all(df_baseline_model_result.loc[:, 'Ozone effect'].values>=0)\n",
    "    \n",
    "    df_baseline_model_result_tot['Chem. effect'] =  chem_tot\n",
    "    df_baseline_model_result_tot['Ozone effect'] =  ozone_tot\n",
    "    df_baseline_model_result_tot = df_baseline_model_result_tot.drop(['description', 'mean value'])\n",
    "    \n",
    "    return df_baseline_model_result_tot\n",
    "\n",
    "baseline_model_result_final = sum_pb_results(df_baseline_model_result)\n",
    "baseline_model_result_final"
   ]
  },
  {
   "cell_type": "markdown",
   "metadata": {},
   "source": [
    "### most sensitivite parameter check"
   ]
  },
  {
   "cell_type": "code",
   "execution_count": null,
   "metadata": {},
   "outputs": [],
   "source": [
    "import copy\n",
    "import pandas as pd\n",
    "mse_param_result_set = []\n",
    "modified_param_list = copy.deepcopy(param_list)\n",
    "parameter_perturbation = 0.25\n",
    "for idx, par in enumerate(param_list):\n",
    "    value = par['values'][2] if isinstance(par['values'], list) else par['values']\n",
    "    \n",
    "    if  'sigma_' in par['keys'] or 'Lambda_' in par['keys'] or 'V_' in par['keys'] or 'tau_' in par['keys']:\n",
    "        modified_param_list[idx]['values'] = value*(1-parameter_perturbation)\n",
    "        df_result = model.solve(modified_param_list)\n",
    "        mse = (abs(df_baseline_model_result[\"mean value\"] - df_result[\"mean value\"])).mean()\n",
    "        wmse = abs((df_result['mean value']-df_baseline_model_result['mean value'])/df_baseline_model_result['mean value']).mean()\n",
    "        mse_param_result_set.append({'param': par['keys'], 'mse': mse, 'wmse': wmse, 'end': 'low' })\n",
    "        modified_param_list[idx]['values']  = value\n",
    "   \n",
    "        result_final = sum_pb_results(df_result)\n",
    "        pb_unchanged = all((baseline_model_result_final>0) == (result_final>0))\n",
    "        assert pb_unchanged\n",
    "        \n",
    "        assert all([modified_param_list[i]['values']==(p['values']) for i, p in enumerate(param_list) if isinstance(p, int)])\n",
    "        assert all([modified_param_list[i]['values']==(p['values'][2]) for i, p in enumerate(param_list) if isinstance(p, list)])\n",
    "        \n",
    "        modified_param_list[idx]['values'] = value*(1+parameter_perturbation)\n",
    "        df_result = model.solve(modified_param_list)\n",
    "        mse = (abs(df_baseline_model_result[\"mean value\"] - df_result[\"mean value\"])).mean()\n",
    "        wmse = abs((df_result['mean value']-df_baseline_model_result['mean value'])/df_baseline_model_result['mean value']).mean()\n",
    "        mse_param_result_set.append({'param': par['keys'], 'mse': mse, 'wmse': wmse, 'end': 'high' })\n",
    "        modified_param_list[idx]['values']  = value\n",
    "        \n",
    "        result_final = sum_pb_results(df_result)\n",
    "        pb_unchanged = all((baseline_model_result_final>0) == (result_final>0))\n",
    "        assert pb_unchanged\n",
    "        \n",
    "        result_final = sum_pb_results(df_result)\n",
    "        pb_change = all((baseline_model_result_final>0) == (result_final>0))\n",
    "        assert all([modified_param_list[i]['values']==p['values'] for i, p in enumerate(param_list) if isinstance(p, int)])\n",
    "        assert all([modified_param_list[i]['values']==(p['values'][2]) for i, p in enumerate(param_list) if isinstance(p, list)])\n",
    "        \n",
    "        #print(par['keys'], par['values'])\n",
    "        \n",
    "\n",
    "\n",
    "mse_param_result_set.sort(key=lambda x: x['wmse'], reverse=True)\n",
    "pd.DataFrame(mse_param_result_set)"
   ]
  },
  {
   "cell_type": "code",
   "execution_count": null,
   "metadata": {},
   "outputs": [],
   "source": []
  }
 ],
 "metadata": {
  "kernelspec": {
   "display_name": "Python [conda env:py37]",
   "language": "python",
   "name": "conda-env-py37-py"
  },
  "language_info": {
   "codemirror_mode": {
    "name": "ipython",
    "version": 3
   },
   "file_extension": ".py",
   "mimetype": "text/x-python",
   "name": "python",
   "nbconvert_exporter": "python",
   "pygments_lexer": "ipython3",
   "version": "3.7.1"
  }
 },
 "nbformat": 4,
 "nbformat_minor": 2
}
